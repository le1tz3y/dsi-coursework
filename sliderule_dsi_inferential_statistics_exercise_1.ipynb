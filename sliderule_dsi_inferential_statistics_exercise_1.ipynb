{
 "cells": [
  {
   "cell_type": "markdown",
   "metadata": {},
   "source": [
    "## What is the true normal human body temperature? \n",
    "\n",
    "#### Background\n",
    "\n",
    "The mean normal body temperature was held to be 37$^{\\circ}$C or 98.6$^{\\circ}$F for more than 120 years since it was first conceptualized and reported by Carl Wunderlich in a famous 1868 book. In 1992, this value was revised to 36.8$^{\\circ}$C or 98.2$^{\\circ}$F. \n",
    "\n",
    "#### Exercise\n",
    "In this exercise, you will analyze a dataset of human body temperatures and employ the concepts of hypothesis testing, confidence intervals, and statistical significance.\n",
    "\n",
    "Answer the following questions **in this notebook below and submit to your Github account**. \n",
    "\n",
    "1.  Is the distribution of body temperatures normal? \n",
    "    - Remember that this is a condition for the CLT, and hence the statistical tests we are using, to apply. \n",
    "2.  Is the true population mean really 98.6 degrees F?\n",
    "    - Bring out the one sample hypothesis test! In this situation, is it approriate to apply a z-test or a t-test? How will the result be different?\n",
    "3.  At what temperature should we consider someone's temperature to be \"abnormal\"?\n",
    "    - Start by computing the margin of error and confidence interval.\n",
    "4.  Is there a significant difference between males and females in normal temperature?\n",
    "    - Set up and solve for a two sample hypothesis testing.\n",
    "\n",
    "You can include written notes in notebook cells using Markdown: \n",
    "   - In the control panel at the top, choose Cell > Cell Type > Markdown\n",
    "   - Markdown syntax: http://nestacms.com/docs/creating-content/markdown-cheat-sheet\n",
    "\n",
    "#### Resources\n",
    "\n",
    "+ Information and data sources: http://www.amstat.org/publications/jse/datasets/normtemp.txt, http://www.amstat.org/publications/jse/jse_data_archive.htm\n",
    "+ Markdown syntax: http://nestacms.com/docs/creating-content/markdown-cheat-sheet\n",
    "\n",
    "****"
   ]
  },
  {
   "cell_type": "code",
   "execution_count": 2,
   "metadata": {
    "collapsed": false
   },
   "outputs": [],
   "source": [
    "from __future__ import division\n",
    "import pandas as pd\n",
    "import numpy as np\n",
    "import scipy.stats as stats\n",
    "\n",
    "%matplotlib inline"
   ]
  },
  {
   "cell_type": "code",
   "execution_count": 3,
   "metadata": {
    "collapsed": false
   },
   "outputs": [],
   "source": [
    "df = pd.read_csv('data/human_body_temperature.csv')"
   ]
  },
  {
   "cell_type": "markdown",
   "metadata": {
    "collapsed": true
   },
   "source": [
    "## Question 1:  Is the distribution of body temperatures normal?"
   ]
  },
  {
   "cell_type": "code",
   "execution_count": 4,
   "metadata": {
    "collapsed": false,
    "scrolled": true
   },
   "outputs": [
    {
     "data": {
      "image/png": "[encoded data removed]",
      "text/plain": [
       "<matplotlib.figure.Figure at 0x10ff66810>"
      ]
     },
     "metadata": {},
     "output_type": "display_data"
    }
   ],
   "source": [
    "df.temperature.plot(kind=\"hist\", ylim=(0,35));"
   ]
  },
  {
   "cell_type": "markdown",
   "metadata": {},
   "source": [
    "The Distribution appears to be normal, but to be sure.."
   ]
  },
  {
   "cell_type": "code",
   "execution_count": 5,
   "metadata": {
    "collapsed": false,
    "scrolled": true
   },
   "outputs": [
    {
     "data": {
      "text/plain": [
       "NormaltestResult(statistic=2.7038014333192031, pvalue=0.2587479863488254)"
      ]
     },
     "execution_count": 5,
     "metadata": {},
     "output_type": "execute_result"
    }
   ],
   "source": [
    "# Use scipy.stats to test for normality\n",
    "stats.mstats.normaltest(df.temperature)"
   ]
  },
  {
   "cell_type": "markdown",
   "metadata": {},
   "source": [
    "P-Value (0.26) is > 0.05, so we do NOT reject the null hypothesis of our distribution being normal."
   ]
  },
  {
   "cell_type": "code",
   "execution_count": null,
   "metadata": {
    "collapsed": true
   },
   "outputs": [],
   "source": []
  },
  {
   "cell_type": "markdown",
   "metadata": {
    "collapsed": true
   },
   "source": [
    "## Question 2:  Is the true population mean really 98.6 degrees F?"
   ]
  },
  {
   "cell_type": "code",
   "execution_count": 44,
   "metadata": {
    "collapsed": false,
    "scrolled": true
   },
   "outputs": [
    {
     "name": "stdout",
     "output_type": "stream",
     "text": [
      "P-value is  2.45107850705e-08\n",
      "P-value < significance level, so reject the null hypothesis. Average body temp is not 98.6 deg F\n"
     ]
    }
   ],
   "source": [
    "# H0: The population mean (upop) is equal to 98.6 deg F.\n",
    "# H1: The population mean is not equal to 98.6 deg F.\n",
    "\n",
    "# Define the signficance level\n",
    "alpha = 0.005\n",
    "\n",
    "# Find some useful statistics of our sample body temperature data\n",
    "n = len(df.temperature)         # sample size\n",
    "sigma = df.temperature.std()    # standard deviation\n",
    "mean = df.temperature.mean()      # mean\n",
    "\n",
    "# For H0 to be true upop = usamp = 98.6 deg F, where usamp = sample mean of the sampling dist.\n",
    "upop = 98.6\n",
    "usamp = 98.6\n",
    "\n",
    "# Estimate the standard deviation of the sampling distribution (a.k.a. standard error)\n",
    "#    - when n is > 30 a z-distribution can be used\n",
    "if n >= 30:     # \"ok\" to use a z-distribution\n",
    "    sigma_sd = sigma / np.sqrt(n)  \n",
    "else:          # need to use a t-distribution\n",
    "    print \"n is less than 30, please use a t-distribution and another program\"\n",
    "\n",
    "# Calculate a probability value (p-value) from the cumulative distribution function\n",
    "p_value = stats.norm.cdf(mean, upop, sigma_sd)\n",
    "\n",
    "# Compare the p_value to our significance level\n",
    "if p_value < alpha:\n",
    "    print 'P-value is ', p_value\n",
    "    print 'P-value < significance level, so reject the null hypothesis. Average body temp is not 98.6 deg F'\n",
    "else:\n",
    "    print 'P-value is ', p_value\n",
    "    print 'P-value is >= significance level, so do not reject the null hypothesis. Average body temp is 98.6 deg F'"
   ]
  },
  {
   "cell_type": "code",
   "execution_count": null,
   "metadata": {
    "collapsed": true
   },
   "outputs": [],
   "source": []
  },
  {
   "cell_type": "markdown",
   "metadata": {
    "collapsed": true
   },
   "source": [
    "## Question 3:  At what temperature should we consider someone's temperature to be \"abnormal\"?"
   ]
  },
  {
   "cell_type": "markdown",
   "metadata": {},
   "source": [
    "Calculate a 95% confidence interval of the mean"
   ]
  },
  {
   "cell_type": "code",
   "execution_count": 22,
   "metadata": {
    "collapsed": false
   },
   "outputs": [
    {
     "name": "stdout",
     "output_type": "stream",
     "text": [
      "confidence interval:  98.0942286467 to 98.4042328917\n"
     ]
    }
   ],
   "source": [
    "ci = stats.norm.ppf(0.95, mean, sigma_sd) - 98.2\n",
    "\n",
    "print 'confidence interval: ', mean - ci, 'to', mean + ci\n"
   ]
  },
  {
   "cell_type": "markdown",
   "metadata": {
    "collapsed": true
   },
   "source": [
    "Calculate a margin of error for the mean"
   ]
  },
  {
   "cell_type": "code",
   "execution_count": 29,
   "metadata": {
    "collapsed": false
   },
   "outputs": [
    {
     "name": "stdout",
     "output_type": "stream",
     "text": [
      "margin of error:  10.5771353265 %\n"
     ]
    }
   ],
   "source": [
    "# Compute the Z score for 95% confidence\n",
    "z = stats.norm.ppf(0.95)\n",
    "\n",
    "# meanltiply the z score 95% by the standard error\n",
    "margin_of_error = z * sigma_sd\n",
    "\n",
    "print \"margin of error: \", margin_of_error * 100, '%'\n"
   ]
  },
  {
   "cell_type": "code",
   "execution_count": 31,
   "metadata": {
    "collapsed": false
   },
   "outputs": [
    {
     "data": {
      "text/html": [
       "<div>\n",
       "<table border=\"1\" class=\"dataframe\">\n",
       "  <thead>\n",
       "    <tr style=\"text-align: right;\">\n",
       "      <th></th>\n",
       "      <th>temperature</th>\n",
       "      <th>gender</th>\n",
       "      <th>heart_rate</th>\n",
       "    </tr>\n",
       "  </thead>\n",
       "  <tbody>\n",
       "    <tr>\n",
       "      <th>0</th>\n",
       "      <td>99.3</td>\n",
       "      <td>F</td>\n",
       "      <td>68</td>\n",
       "    </tr>\n",
       "    <tr>\n",
       "      <th>1</th>\n",
       "      <td>98.4</td>\n",
       "      <td>F</td>\n",
       "      <td>81</td>\n",
       "    </tr>\n",
       "    <tr>\n",
       "      <th>2</th>\n",
       "      <td>97.8</td>\n",
       "      <td>M</td>\n",
       "      <td>73</td>\n",
       "    </tr>\n",
       "    <tr>\n",
       "      <th>3</th>\n",
       "      <td>99.2</td>\n",
       "      <td>F</td>\n",
       "      <td>66</td>\n",
       "    </tr>\n",
       "    <tr>\n",
       "      <th>4</th>\n",
       "      <td>98.0</td>\n",
       "      <td>F</td>\n",
       "      <td>73</td>\n",
       "    </tr>\n",
       "  </tbody>\n",
       "</table>\n",
       "</div>"
      ],
      "text/plain": [
       "   temperature gender  heart_rate\n",
       "0         99.3      F          68\n",
       "1         98.4      F          81\n",
       "2         97.8      M          73\n",
       "3         99.2      F          66\n",
       "4         98.0      F          73"
      ]
     },
     "execution_count": 31,
     "metadata": {},
     "output_type": "execute_result"
    }
   ],
   "source": [
    "df.head()"
   ]
  },
  {
   "cell_type": "markdown",
   "metadata": {
    "collapsed": true
   },
   "source": [
    "## Question 4: Is there a significant difference between males and females in normal temperature?"
   ]
  },
  {
   "cell_type": "code",
   "execution_count": 66,
   "metadata": {
    "collapsed": false
   },
   "outputs": [
    {
     "name": "stdout",
     "output_type": "stream",
     "text": [
      "P-value is  0.0222873607607\n",
      "P-value is >= significance level, so do not reject the null hypothesis. Average body temp is 98.6 deg F\n"
     ]
    }
   ],
   "source": [
    "# H0: There is no difference between the male and female body temperatures; u_male - u_female = 0\n",
    "# H1: There is a difference between the male and female body temperatures; u_male - u_female != 0\n",
    "\n",
    "# Define the signficance level\n",
    "alpha = 0.005\n",
    "\n",
    "# Define the male and female dataframes\n",
    "dff = df[df.gender == 'F']\n",
    "dfm = df[df.gender == 'M']\n",
    "\n",
    "# Find some useful statistics of our sample male and female body temperature data\n",
    "female_n = len(dff.temperature)         # female sample size\n",
    "male_n = len(dfm.temperature)         # male sample size\n",
    "female_sigma = dff.temperature.std()    # femalestandard deviation\n",
    "male_sigma = dfm.temperature.std()    # malestandard deviation\n",
    "female_mean = dff.temperature.mean()      # female mean\n",
    "male_mean = dfm.temperature.mean()      # male mean\n",
    "\n",
    "# Find the difference between the sample means\n",
    "mean_sample_diff = female_mean - male_mean\n",
    "\n",
    "# Find the standard deviation of the difference between the sample distributions\n",
    "sigma_sd = np.sqrt((female_sigma ** 2 / female_n) + (male_sigma ** 2 / male_n))\n",
    "\n",
    "# Find the p-value\n",
    "p_value = 2 * stats.norm.cdf(0, mean_sample_diff, sigma_sd)\n",
    "\n",
    "# Compare the p_value to our significance level\n",
    "if p_value < alpha:\n",
    "    print 'P-value is ', p_value\n",
    "    print 'P-value < significance level, so reject the null hypothesis. Average body temp is not 98.6 deg F'\n",
    "else:\n",
    "    print 'P-value is ', p_value\n",
    "    print 'P-value is >= significance level, so do not reject the null hypothesis. Average body temp is 98.6 deg F'"
   ]
  }
 ],
 "metadata": {
  "kernelspec": {
   "display_name": "Python 2",
   "language": "python",
   "name": "python2"
  },
  "language_info": {
   "codemirror_mode": {
    "name": "ipython",
    "version": 2
   },
   "file_extension": ".py",
   "mimetype": "text/x-python",
   "name": "python",
   "nbconvert_exporter": "python",
   "pygments_lexer": "ipython2",
   "version": "2.7.10"
  }
 },
 "nbformat": 4,
 "nbformat_minor": 0
}
