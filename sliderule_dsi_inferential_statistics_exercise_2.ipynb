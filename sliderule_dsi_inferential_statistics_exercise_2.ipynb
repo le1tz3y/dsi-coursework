{
 "cells": [
  {
   "cell_type": "markdown",
   "metadata": {},
   "source": [
    "\n",
    "### Examining racial discrimination in the US job market\n",
    "\n",
    "#### Background\n",
    "Racial discrimination continues to be pervasive in cultures throughout the world. Researchers examined the level of racial discrimination in the United States labor market by randomly assigning identical résumés black-sounding or white-sounding names and observing the impact on requests for interviews from employers.\n",
    "\n",
    "#### Data\n",
    "In the dataset provided, each row represents a resume. The 'race' column has two values, 'b' and 'w', indicating black-sounding and white-sounding. The column 'call' has two values, 1 and 0, indicating whether the resume received a call from employers or not.\n",
    "\n",
    "Note that the 'b' and 'w' values in race are assigned randomly to the resumes.\n",
    "\n",
    "#### Exercise\n",
    "You will perform a statistical analysis to establish whether race has a significant impact on the rate of callbacks for resumes.\n",
    "\n",
    "Answer the following questions **in this notebook below and submit to your Github account**. \n",
    "\n",
    "   1. What test is appropriate for this problem? Does CLT apply?\n",
    "   2. What are the null and alternate hypotheses?\n",
    "   3. Compute margin of error, confidence interval, and p-value.\n",
    "   4. Discuss statistical significance.\n",
    "\n",
    "You can include written notes in notebook cells using Markdown: \n",
    "   - In the control panel at the top, choose Cell > Cell Type > Markdown\n",
    "   - Markdown syntax: http://nestacms.com/docs/creating-content/markdown-cheat-sheet\n",
    "\n",
    "\n",
    "#### Resources\n",
    "+ Experiment information and data source: http://www.povertyactionlab.org/evaluation/discrimination-job-market-united-states\n",
    "+ Scipy statistical methods: http://docs.scipy.org/doc/scipy/reference/stats.html \n",
    "+ Markdown syntax: http://nestacms.com/docs/creating-content/markdown-cheat-sheet\n",
    "\n",
    "****"
   ]
  },
  {
   "cell_type": "code",
   "execution_count": 3,
   "metadata": {
    "collapsed": false
   },
   "outputs": [],
   "source": [
    "from __future__ import division\n",
    "\n",
    "import pandas as pd\n",
    "import numpy as np\n",
    "from scipy import stats"
   ]
  },
  {
   "cell_type": "code",
   "execution_count": 4,
   "metadata": {
    "collapsed": false
   },
   "outputs": [],
   "source": [
    "data = pd.io.stata.read_stata('data/us_job_market_discrimination.dta')"
   ]
  },
  {
   "cell_type": "code",
   "execution_count": 5,
   "metadata": {
    "collapsed": false
   },
   "outputs": [
    {
     "data": {
      "text/plain": [
       "157.0"
      ]
     },
     "execution_count": 5,
     "metadata": {},
     "output_type": "execute_result"
    }
   ],
   "source": [
    "# number of callbacks for black-sounding names\n",
    "sum(data[data.race=='b'].call)"
   ]
  },
  {
   "cell_type": "code",
   "execution_count": 6,
   "metadata": {
    "collapsed": false,
    "scrolled": true
   },
   "outputs": [],
   "source": [
    "# Build a dataframes with the relevant features\n",
    "df = data[['race', 'call']]\n",
    "dfb = df[df.race == 'b']\n",
    "dfb0 = dfb[dfb.call == 0]\n",
    "dfb1 = dfb[dfb.call == 1]\n",
    "dfw = df[df.race == 'w']\n",
    "dfw0 = dfw[dfw.call == 0]\n",
    "dfw1 = dfw[dfw.call == 1]"
   ]
  },
  {
   "cell_type": "markdown",
   "metadata": {},
   "source": [
    "## 1. What test is appropriate for this problem? Does CLT apply?"
   ]
  },
  {
   "cell_type": "markdown",
   "metadata": {},
   "source": [
    "A hypothesis test for the difference between two sample proportions is the correct test for this problem. Since we are dealing with two different samples (race = black and race = white) with a value of 0 or 1 for no call-back vs. call-back (respectively), I will use two Bernoulli distributions with a large sample size for this problem. The central limit theorem does apply in this situation because the sample size is greater than 30."
   ]
  },
  {
   "cell_type": "markdown",
   "metadata": {},
   "source": [
    "## 2. What are the null and alternate hypotheses?"
   ]
  },
  {
   "cell_type": "markdown",
   "metadata": {},
   "source": [
    "H0: p_b1 = p_w1 or there is no racial discrimination in the U.S. work labor market\n",
    "\n",
    "H1: p_b1 != p_w1 or there is racial discrimination in the U.S. work labor market"
   ]
  },
  {
   "cell_type": "markdown",
   "metadata": {},
   "source": [
    "## 3. Compute margin of error, confidence interval, and p-value."
   ]
  },
  {
   "cell_type": "code",
   "execution_count": 7,
   "metadata": {
    "collapsed": false
   },
   "outputs": [],
   "source": [
    "# Find the proportion of black and white people getting a callback and not getting a callback\n",
    "p_b0 = len(dfb0) / len(dfb)\n",
    "p_b1 = 1 - p_b0\n",
    "p_w1 = len(dfw0) / len(dfw)\n",
    "p_w1 = 1 - p_w1\n",
    "\n",
    "# In a Bernoulli dist., the standard deviation of each sample is equal to the proportion getting a \n",
    "# callback times one minus the proportion getting a callback\n",
    "sigma_b = p_b1 * (1 - p_b1)\n",
    "sigma_w = p_w1 * (1 - p_w1)"
   ]
  },
  {
   "cell_type": "code",
   "execution_count": 22,
   "metadata": {
    "collapsed": false
   },
   "outputs": [
    {
     "name": "stdout",
     "output_type": "stream",
     "text": [
      "Margin of Error =  1.5567 %\n"
     ]
    }
   ],
   "source": [
    "# Find the difference between the proportions of black and white people getting a callback\n",
    "sampdist_prop = np.abs(p_b1 - p_w1)\n",
    "\n",
    "# Find the standard deviation of the above statistic\n",
    "sampdist_sigma = np.sqrt((sigma_b / len(dfb)) + (sigma_w / len(dfw)))\n",
    "\n",
    "# Margin of error is the probability that the true population statistic is within 2 standard deviations (on the sampling\n",
    "# distribution of p_b1 - pw1) of our smaple statistic\n",
    "margin_of_error = 2 * sampdist_sigma\n",
    "\n",
    "print \"Margin of Error = \", np.round(margin_of_error, 6) * 100, \"%\""
   ]
  },
  {
   "cell_type": "code",
   "execution_count": 21,
   "metadata": {
    "collapsed": false
   },
   "outputs": [
    {
     "name": "stdout",
     "output_type": "stream",
     "text": [
      "95% Confidence Interval =  0.032033 +- 0.015567\n"
     ]
    }
   ],
   "source": [
    "print \"95% Confidence Interval = \", np.round(sampdist_prop, 6), \"+-\", np.round(margin_of_error, 6)"
   ]
  },
  {
   "cell_type": "code",
   "execution_count": 23,
   "metadata": {
    "collapsed": false
   },
   "outputs": [
    {
     "name": "stdout",
     "output_type": "stream",
     "text": [
      "P-Value =  1.93128260376e-05\n"
     ]
    }
   ],
   "source": [
    "print \"P-Value = \", 2 * stats.norm.cdf(0, sampdist_prop, sampdist_sigma)"
   ]
  },
  {
   "cell_type": "markdown",
   "metadata": {},
   "source": [
    "## 4. Discuss statistical significance."
   ]
  },
  {
   "cell_type": "markdown",
   "metadata": {},
   "source": [
    "P-value is less than the significance level of 5%, so I am confident in rejecting my null hypothesis. In other words, there does appear to be racial discrimination in the U.S. labor force."
   ]
  }
 ],
 "metadata": {
  "kernelspec": {
   "display_name": "Python 2",
   "language": "python",
   "name": "python2"
  },
  "language_info": {
   "codemirror_mode": {
    "name": "ipython",
    "version": 2
   },
   "file_extension": ".py",
   "mimetype": "text/x-python",
   "name": "python",
   "nbconvert_exporter": "python",
   "pygments_lexer": "ipython2",
   "version": "2.7.10"
  }
 },
 "nbformat": 4,
 "nbformat_minor": 0
}
