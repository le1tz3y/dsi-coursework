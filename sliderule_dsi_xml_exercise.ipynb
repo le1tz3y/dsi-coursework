{
 "cells": [
  {
   "cell_type": "markdown",
   "metadata": {},
   "source": [
    "# XML example and exercise\n",
    "****\n",
    "+ study examples of accessing nodes in XML tree structure  \n",
    "+ work on exercise to be completed and submitted\n",
    "****\n",
    "+ reference: https://docs.python.org/2.7/library/xml.etree.elementtree.html\n",
    "+ data source: http://www.dbis.informatik.uni-goettingen.de/Mondial\n",
    "****"
   ]
  },
  {
   "cell_type": "code",
   "execution_count": 36,
   "metadata": {
    "collapsed": true
   },
   "outputs": [],
   "source": [
    "from xml.etree import ElementTree as ET"
   ]
  },
  {
   "cell_type": "markdown",
   "metadata": {},
   "source": [
    "## XML example\n",
    "\n",
    "+ for details about tree traversal and iterators, see https://docs.python.org/2.7/library/xml.etree.elementtree.html"
   ]
  },
  {
   "cell_type": "code",
   "execution_count": 3,
   "metadata": {
    "collapsed": true
   },
   "outputs": [],
   "source": [
    "document_tree = ET.parse( './data/mondial_database_less.xml' )"
   ]
  },
  {
   "cell_type": "code",
   "execution_count": 4,
   "metadata": {
    "collapsed": false
   },
   "outputs": [
    {
     "name": "stdout",
     "output_type": "stream",
     "text": [
      "Albania\n",
      "Greece\n",
      "Macedonia\n",
      "Serbia\n",
      "Montenegro\n",
      "Kosovo\n",
      "Andorra\n"
     ]
    }
   ],
   "source": [
    "# print names of all countries\n",
    "for child in document_tree.getroot():\n",
    "    print child.find('name').text"
   ]
  },
  {
   "cell_type": "code",
   "execution_count": 5,
   "metadata": {
    "collapsed": false
   },
   "outputs": [
    {
     "name": "stdout",
     "output_type": "stream",
     "text": [
      "* Albania: Tirana, Shkodër, Durrës, Vlorë, Elbasan, Korçë\n",
      "* Greece: Komotini, Kavala, Athina, Peiraias, Peristeri, Acharnes, Patra, Kozani, Kerkyra, Ioannina, Thessaloniki, Iraklio, Chania, Ermoupoli, Rhodes, Tripoli, Lamia, Chalkida, Larissa, Volos, Mytilini, Karyes\n",
      "* Macedonia: Skopje, Kumanovo\n",
      "* Serbia: Beograd, Novi Sad, Niš\n",
      "* Montenegro: Podgorica\n",
      "* Kosovo: Prishtine\n",
      "* Andorra: Andorra la Vella\n"
     ]
    }
   ],
   "source": [
    "# print names of all countries and their cities\n",
    "for element in document_tree.iterfind('country'):\n",
    "    print '* ' + element.find('name').text + ':',\n",
    "    capitals_string = ''\n",
    "    for subelement in element.getiterator('city'):\n",
    "        capitals_string += subelement.find('name').text + ', '\n",
    "    print capitals_string[:-2]"
   ]
  },
  {
   "cell_type": "markdown",
   "metadata": {},
   "source": [
    "****\n",
    "## XML exercise\n",
    "\n",
    "Using data in 'data/mondial_database.xml', the examples above, and refering to https://docs.python.org/2.7/library/xml.etree.elementtree.html, find\n",
    "\n",
    "1. 10 countries with the lowest infant mortality rates\n",
    "2. 10 cities with the largest population\n",
    "3. 10 ethnic groups with the largest overall populations (sum of best/latest estimates over all countries)\n",
    "4. name and country of a) longest river, b) largest lake and c) airport at highest elevation"
   ]
  },
  {
   "cell_type": "code",
   "execution_count": 18,
   "metadata": {
    "collapsed": true
   },
   "outputs": [],
   "source": [
    "from xml.etree import ElementTree as ET\n",
    "import pandas as pd\n",
    "import numpy as np"
   ]
  },
  {
   "cell_type": "code",
   "execution_count": 2,
   "metadata": {
    "collapsed": true
   },
   "outputs": [],
   "source": [
    "tree = ET.parse( './data/mondial_database.xml' )\n",
    "root = tree.getroot()"
   ]
  },
  {
   "cell_type": "code",
   "execution_count": 152,
   "metadata": {
    "collapsed": false
   },
   "outputs": [
    {
     "data": {
      "text/plain": [
       "'\\n      '"
      ]
     },
     "execution_count": 152,
     "metadata": {},
     "output_type": "execute_result"
    }
   ],
   "source": [
    "tree.find('lake').text"
   ]
  },
  {
   "cell_type": "code",
   "execution_count": 16,
   "metadata": {
    "collapsed": true
   },
   "outputs": [],
   "source": [
    "# Problem 1\n",
    "cl = []\n",
    "imort = []\n",
    "for element in tree.iterfind('country'):\n",
    "    cl.append(element.find('name').text)\n",
    "    try:\n",
    "        imort.append(float(element.find('infant_mortality').text))\n",
    "    except AttributeError:\n",
    "        imort.append('none')"
   ]
  },
  {
   "cell_type": "code",
   "execution_count": 30,
   "metadata": {
    "collapsed": false
   },
   "outputs": [
    {
     "data": {
      "text/html": [
       "<div>\n",
       "<table border=\"1\" class=\"dataframe\">\n",
       "  <thead>\n",
       "    <tr style=\"text-align: right;\">\n",
       "      <th></th>\n",
       "      <th>Country</th>\n",
       "      <th>Infant_Mortality</th>\n",
       "    </tr>\n",
       "  </thead>\n",
       "  <tbody>\n",
       "    <tr>\n",
       "      <th>38</th>\n",
       "      <td>Monaco</td>\n",
       "      <td>1.81</td>\n",
       "    </tr>\n",
       "    <tr>\n",
       "      <th>98</th>\n",
       "      <td>Japan</td>\n",
       "      <td>2.13</td>\n",
       "    </tr>\n",
       "    <tr>\n",
       "      <th>117</th>\n",
       "      <td>Bermuda</td>\n",
       "      <td>2.48</td>\n",
       "    </tr>\n",
       "    <tr>\n",
       "      <th>36</th>\n",
       "      <td>Norway</td>\n",
       "      <td>2.48</td>\n",
       "    </tr>\n",
       "    <tr>\n",
       "      <th>106</th>\n",
       "      <td>Singapore</td>\n",
       "      <td>2.53</td>\n",
       "    </tr>\n",
       "    <tr>\n",
       "      <th>37</th>\n",
       "      <td>Sweden</td>\n",
       "      <td>2.6</td>\n",
       "    </tr>\n",
       "    <tr>\n",
       "      <th>10</th>\n",
       "      <td>Czech Republic</td>\n",
       "      <td>2.63</td>\n",
       "    </tr>\n",
       "    <tr>\n",
       "      <th>78</th>\n",
       "      <td>Hong Kong</td>\n",
       "      <td>2.73</td>\n",
       "    </tr>\n",
       "    <tr>\n",
       "      <th>79</th>\n",
       "      <td>Macao</td>\n",
       "      <td>3.13</td>\n",
       "    </tr>\n",
       "    <tr>\n",
       "      <th>44</th>\n",
       "      <td>Iceland</td>\n",
       "      <td>3.15</td>\n",
       "    </tr>\n",
       "  </tbody>\n",
       "</table>\n",
       "</div>"
      ],
      "text/plain": [
       "            Country Infant_Mortality\n",
       "38           Monaco             1.81\n",
       "98            Japan             2.13\n",
       "117         Bermuda             2.48\n",
       "36           Norway             2.48\n",
       "106       Singapore             2.53\n",
       "37           Sweden              2.6\n",
       "10   Czech Republic             2.63\n",
       "78        Hong Kong             2.73\n",
       "79            Macao             3.13\n",
       "44          Iceland             3.15"
      ]
     },
     "execution_count": 30,
     "metadata": {},
     "output_type": "execute_result"
    }
   ],
   "source": [
    "df = pd.DataFrame(cl, columns=['Country'])\n",
    "df['Infant_Mortality'] = imort\n",
    "df.sort_values('Infant_Mortality').head(10)"
   ]
  },
  {
   "cell_type": "code",
   "execution_count": null,
   "metadata": {
    "collapsed": true
   },
   "outputs": [],
   "source": []
  },
  {
   "cell_type": "code",
   "execution_count": 135,
   "metadata": {
    "collapsed": false
   },
   "outputs": [],
   "source": [
    "# Problem 2\n",
    "city = []\n",
    "pop = []\n",
    "for element in tree.iterfind('country'):\n",
    "    for subelement in element.findall('city'):\n",
    "        city.append(subelement.find('name').text)\n",
    "        try:\n",
    "            pop.append(int(subelement.find(\"population[0]\").text))\n",
    "        except AttributeError:\n",
    "            pop.append('none')"
   ]
  },
  {
   "cell_type": "code",
   "execution_count": 136,
   "metadata": {
    "collapsed": false
   },
   "outputs": [
    {
     "data": {
      "text/html": [
       "<div>\n",
       "<table border=\"1\" class=\"dataframe\">\n",
       "  <thead>\n",
       "    <tr style=\"text-align: right;\">\n",
       "      <th></th>\n",
       "      <th>City</th>\n",
       "      <th>Population</th>\n",
       "    </tr>\n",
       "  </thead>\n",
       "  <tbody>\n",
       "    <tr>\n",
       "      <th>176</th>\n",
       "      <td>Seoul</td>\n",
       "      <td>9708483</td>\n",
       "    </tr>\n",
       "    <tr>\n",
       "      <th>164</th>\n",
       "      <td>Al Qahirah</td>\n",
       "      <td>8471859</td>\n",
       "    </tr>\n",
       "    <tr>\n",
       "      <th>80</th>\n",
       "      <td>Bangkok</td>\n",
       "      <td>7506700</td>\n",
       "    </tr>\n",
       "    <tr>\n",
       "      <th>128</th>\n",
       "      <td>Hong Kong</td>\n",
       "      <td>7055071</td>\n",
       "    </tr>\n",
       "    <tr>\n",
       "      <th>92</th>\n",
       "      <td>Ho Chi Minh</td>\n",
       "      <td>5968384</td>\n",
       "    </tr>\n",
       "    <tr>\n",
       "      <th>212</th>\n",
       "      <td>Singapore</td>\n",
       "      <td>5076700</td>\n",
       "    </tr>\n",
       "    <tr>\n",
       "      <th>163</th>\n",
       "      <td>Al Iskandariyah</td>\n",
       "      <td>4123869</td>\n",
       "    </tr>\n",
       "    <tr>\n",
       "      <th>216</th>\n",
       "      <td>New Taipei</td>\n",
       "      <td>3939305</td>\n",
       "    </tr>\n",
       "    <tr>\n",
       "      <th>177</th>\n",
       "      <td>Busan</td>\n",
       "      <td>3403135</td>\n",
       "    </tr>\n",
       "    <tr>\n",
       "      <th>107</th>\n",
       "      <td>Pyongyang</td>\n",
       "      <td>3255288</td>\n",
       "    </tr>\n",
       "  </tbody>\n",
       "</table>\n",
       "</div>"
      ],
      "text/plain": [
       "                City Population\n",
       "176            Seoul    9708483\n",
       "164       Al Qahirah    8471859\n",
       "80           Bangkok    7506700\n",
       "128        Hong Kong    7055071\n",
       "92       Ho Chi Minh    5968384\n",
       "212        Singapore    5076700\n",
       "163  Al Iskandariyah    4123869\n",
       "216       New Taipei    3939305\n",
       "177            Busan    3403135\n",
       "107        Pyongyang    3255288"
      ]
     },
     "execution_count": 136,
     "metadata": {},
     "output_type": "execute_result"
    }
   ],
   "source": [
    "df = pd.DataFrame(city, columns=['City'])\n",
    "df['Population'] = pop\n",
    "df = df[df.Population != 'none']\n",
    "df.sort_values('Population', ascending=False).head(10)"
   ]
  },
  {
   "cell_type": "code",
   "execution_count": null,
   "metadata": {
    "collapsed": true
   },
   "outputs": [],
   "source": []
  },
  {
   "cell_type": "code",
   "execution_count": 190,
   "metadata": {
    "collapsed": false
   },
   "outputs": [
    {
     "data": {
      "text/html": [
       "<div>\n",
       "<table border=\"1\" class=\"dataframe\">\n",
       "  <thead>\n",
       "    <tr style=\"text-align: right;\">\n",
       "      <th></th>\n",
       "      <th>Country</th>\n",
       "      <th>Population</th>\n",
       "      <th>Ethnic_Group</th>\n",
       "      <th>Percentage</th>\n",
       "      <th>EG_Population</th>\n",
       "    </tr>\n",
       "  </thead>\n",
       "  <tbody>\n",
       "    <tr>\n",
       "      <th>176</th>\n",
       "      <td>China</td>\n",
       "      <td>1360720000</td>\n",
       "      <td>Han Chinese</td>\n",
       "      <td>91</td>\n",
       "      <td>1238255200</td>\n",
       "    </tr>\n",
       "    <tr>\n",
       "      <th>221</th>\n",
       "      <td>India</td>\n",
       "      <td>1210854977</td>\n",
       "      <td>Indo-Aryan</td>\n",
       "      <td>72</td>\n",
       "      <td>871815583</td>\n",
       "    </tr>\n",
       "    <tr>\n",
       "      <th>220</th>\n",
       "      <td>India</td>\n",
       "      <td>1210854977</td>\n",
       "      <td>Dravidian</td>\n",
       "      <td>25</td>\n",
       "      <td>302713744</td>\n",
       "    </tr>\n",
       "    <tr>\n",
       "      <th>345</th>\n",
       "      <td>United States</td>\n",
       "      <td>318857056</td>\n",
       "      <td>European</td>\n",
       "      <td>79</td>\n",
       "      <td>251897074</td>\n",
       "    </tr>\n",
       "    <tr>\n",
       "      <th>520</th>\n",
       "      <td>Nigeria</td>\n",
       "      <td>164294516</td>\n",
       "      <td>African</td>\n",
       "      <td>99</td>\n",
       "      <td>162651570</td>\n",
       "    </tr>\n",
       "    <tr>\n",
       "      <th>212</th>\n",
       "      <td>Bangladesh</td>\n",
       "      <td>149772364</td>\n",
       "      <td>Bengali</td>\n",
       "      <td>98</td>\n",
       "      <td>146776916</td>\n",
       "    </tr>\n",
       "    <tr>\n",
       "      <th>299</th>\n",
       "      <td>Japan</td>\n",
       "      <td>127298000</td>\n",
       "      <td>Japanese</td>\n",
       "      <td>99</td>\n",
       "      <td>126025020</td>\n",
       "    </tr>\n",
       "    <tr>\n",
       "      <th>93</th>\n",
       "      <td>Russia</td>\n",
       "      <td>143666931</td>\n",
       "      <td>Russian</td>\n",
       "      <td>79</td>\n",
       "      <td>113496875</td>\n",
       "    </tr>\n",
       "    <tr>\n",
       "      <th>278</th>\n",
       "      <td>Indonesia</td>\n",
       "      <td>252124458</td>\n",
       "      <td>Javanese</td>\n",
       "      <td>45</td>\n",
       "      <td>113456006</td>\n",
       "    </tr>\n",
       "    <tr>\n",
       "      <th>461</th>\n",
       "      <td>Brazil</td>\n",
       "      <td>202768562</td>\n",
       "      <td>European</td>\n",
       "      <td>53</td>\n",
       "      <td>107467337</td>\n",
       "    </tr>\n",
       "  </tbody>\n",
       "</table>\n",
       "</div>"
      ],
      "text/plain": [
       "           Country  Population Ethnic_Group  Percentage  EG_Population\n",
       "176          China  1360720000  Han Chinese          91     1238255200\n",
       "221          India  1210854977   Indo-Aryan          72      871815583\n",
       "220          India  1210854977    Dravidian          25      302713744\n",
       "345  United States   318857056     European          79      251897074\n",
       "520        Nigeria   164294516      African          99      162651570\n",
       "212     Bangladesh   149772364      Bengali          98      146776916\n",
       "299          Japan   127298000     Japanese          99      126025020\n",
       "93          Russia   143666931      Russian          79      113496875\n",
       "278      Indonesia   252124458     Javanese          45      113456006\n",
       "461         Brazil   202768562     European          53      107467337"
      ]
     },
     "execution_count": 190,
     "metadata": {},
     "output_type": "execute_result"
    }
   ],
   "source": [
    "# Problem 3\n",
    "df = pd.DataFrame(columns=('Country', 'Population', 'Ethnic_Group', 'Percentage'))\n",
    "\n",
    "i = 0\n",
    "\n",
    "for element in tree.iterfind('country'):\n",
    "    country = element.find('name').text\n",
    "    pop = int(element.find(\"population[0]\").text)\n",
    "    for subelement in element.findall('ethnicgroup'):\n",
    "        eg = subelement.text\n",
    "        egp = float(subelement.get('percentage')) // 1\n",
    "        df.loc[i] = [country, pop, eg, egp]\n",
    "        i += 1\n",
    "\n",
    "df['EG_Population'] = (df.Population * (df.Percentage / 100)) // 1\n",
    "        \n",
    "df.sort_values('EG_Population', ascending=False).head(10)"
   ]
  },
  {
   "cell_type": "code",
   "execution_count": null,
   "metadata": {
    "collapsed": true
   },
   "outputs": [],
   "source": []
  },
  {
   "cell_type": "code",
   "execution_count": null,
   "metadata": {
    "collapsed": true
   },
   "outputs": [],
   "source": []
  },
  {
   "cell_type": "code",
   "execution_count": 210,
   "metadata": {
    "collapsed": false
   },
   "outputs": [],
   "source": [
    "# Problem 4\n",
    "country = []\n",
    "abbrev = []\n",
    "\n",
    "for element in tree.iterfind('country'):\n",
    "    country.append(element.find('name').text)\n",
    "    abbrev.append(element.get('car_code'))\n",
    "    \n",
    "df = pd.DataFrame(country, columns=['Country'])\n",
    "df['Abbrev'] = abbrev"
   ]
  },
  {
   "cell_type": "code",
   "execution_count": 229,
   "metadata": {
    "collapsed": false
   },
   "outputs": [
    {
     "data": {
      "text/html": [
       "<div>\n",
       "<table border=\"1\" class=\"dataframe\">\n",
       "  <thead>\n",
       "    <tr style=\"text-align: right;\">\n",
       "      <th></th>\n",
       "      <th>River</th>\n",
       "      <th>Length</th>\n",
       "      <th>Abbrev</th>\n",
       "      <th>Country</th>\n",
       "    </tr>\n",
       "  </thead>\n",
       "  <tbody>\n",
       "    <tr>\n",
       "      <th>258</th>\n",
       "      <td>Amazonas</td>\n",
       "      <td>6448</td>\n",
       "      <td>PE</td>\n",
       "      <td>Peru</td>\n",
       "    </tr>\n",
       "    <tr>\n",
       "      <th>250</th>\n",
       "      <td>Amazonas</td>\n",
       "      <td>6448</td>\n",
       "      <td>BR</td>\n",
       "      <td>Brazil</td>\n",
       "    </tr>\n",
       "    <tr>\n",
       "      <th>247</th>\n",
       "      <td>Amazonas</td>\n",
       "      <td>6448</td>\n",
       "      <td>CO</td>\n",
       "      <td>Colombia</td>\n",
       "    </tr>\n",
       "  </tbody>\n",
       "</table>\n",
       "</div>"
      ],
      "text/plain": [
       "        River Length Abbrev   Country\n",
       "258  Amazonas   6448     PE      Peru\n",
       "250  Amazonas   6448     BR    Brazil\n",
       "247  Amazonas   6448     CO  Colombia"
      ]
     },
     "execution_count": 229,
     "metadata": {},
     "output_type": "execute_result"
    }
   ],
   "source": [
    "# Problem 4a\n",
    "df1 = pd.DataFrame(columns=['River', 'Length', 'Abbrev'])\n",
    "\n",
    "i = 0\n",
    "\n",
    "for element in tree.iterfind('river'):\n",
    "    river = (element.find('name').text)\n",
    "    try:\n",
    "        length = float((element.find('length').text))\n",
    "    except AttributeError:\n",
    "        length = 'none'\n",
    "    for subelement in element.findall('located'):\n",
    "        abbrev2 = subelement.get('country')\n",
    "        df1.loc[i] = [river, length, abbrev2]\n",
    "        i += 1\n",
    "\n",
    "dfr = df1.merge(df, on='Abbrev')\n",
    "\n",
    "dfr = dfr[dfr.Length != 'none']\n",
    "\n",
    "dfr.sort_values('Length', ascending=False).head(3)"
   ]
  },
  {
   "cell_type": "code",
   "execution_count": null,
   "metadata": {
    "collapsed": true
   },
   "outputs": [],
   "source": []
  },
  {
   "cell_type": "code",
   "execution_count": 231,
   "metadata": {
    "collapsed": false
   },
   "outputs": [
    {
     "data": {
      "text/html": [
       "<div>\n",
       "<table border=\"1\" class=\"dataframe\">\n",
       "  <thead>\n",
       "    <tr style=\"text-align: right;\">\n",
       "      <th></th>\n",
       "      <th>Lake</th>\n",
       "      <th>Area</th>\n",
       "      <th>Abbrev</th>\n",
       "      <th>Country</th>\n",
       "    </tr>\n",
       "  </thead>\n",
       "  <tbody>\n",
       "    <tr>\n",
       "      <th>67</th>\n",
       "      <td>Caspian Sea</td>\n",
       "      <td>386400</td>\n",
       "      <td>TM</td>\n",
       "      <td>Turkmenistan</td>\n",
       "    </tr>\n",
       "    <tr>\n",
       "      <th>64</th>\n",
       "      <td>Caspian Sea</td>\n",
       "      <td>386400</td>\n",
       "      <td>KAZ</td>\n",
       "      <td>Kazakhstan</td>\n",
       "    </tr>\n",
       "    <tr>\n",
       "      <th>63</th>\n",
       "      <td>Caspian Sea</td>\n",
       "      <td>386400</td>\n",
       "      <td>IR</td>\n",
       "      <td>Iran</td>\n",
       "    </tr>\n",
       "    <tr>\n",
       "      <th>50</th>\n",
       "      <td>Caspian Sea</td>\n",
       "      <td>386400</td>\n",
       "      <td>R</td>\n",
       "      <td>Russia</td>\n",
       "    </tr>\n",
       "  </tbody>\n",
       "</table>\n",
       "</div>"
      ],
      "text/plain": [
       "           Lake    Area Abbrev       Country\n",
       "67  Caspian Sea  386400     TM  Turkmenistan\n",
       "64  Caspian Sea  386400    KAZ    Kazakhstan\n",
       "63  Caspian Sea  386400     IR          Iran\n",
       "50  Caspian Sea  386400      R        Russia"
      ]
     },
     "execution_count": 231,
     "metadata": {},
     "output_type": "execute_result"
    }
   ],
   "source": [
    "# Problem 4b\n",
    "df1 = pd.DataFrame(columns=['Lake', 'Area', 'Abbrev'])\n",
    "\n",
    "i = 0\n",
    "\n",
    "for element in tree.iterfind('lake'):\n",
    "    lake = (element.find('name').text)\n",
    "    try:\n",
    "        area = float(element.find('area').text)\n",
    "    except AttributeError:\n",
    "        area = 'none'\n",
    "    for subelement in element.findall('located'):\n",
    "        abbrev2 = subelement.get('country')\n",
    "        df1.loc[i] = [lake, area, abbrev2]\n",
    "        i += 1\n",
    "        \n",
    "dfl = df1.merge(df, on='Abbrev')\n",
    "\n",
    "dfl = dfl[dfl.Area != 'none']\n",
    "\n",
    "dfl.sort_values(by='Area', ascending=False).head(4)"
   ]
  },
  {
   "cell_type": "code",
   "execution_count": null,
   "metadata": {
    "collapsed": true
   },
   "outputs": [],
   "source": []
  },
  {
   "cell_type": "code",
   "execution_count": 238,
   "metadata": {
    "collapsed": false
   },
   "outputs": [
    {
     "data": {
      "text/html": [
       "<div>\n",
       "<table border=\"1\" class=\"dataframe\">\n",
       "  <thead>\n",
       "    <tr style=\"text-align: right;\">\n",
       "      <th></th>\n",
       "      <th>Airport</th>\n",
       "      <th>Elevation</th>\n",
       "      <th>Abbrev</th>\n",
       "      <th>Country</th>\n",
       "    </tr>\n",
       "  </thead>\n",
       "  <tbody>\n",
       "    <tr>\n",
       "      <th>80</th>\n",
       "      <td>El Alto Intl</td>\n",
       "      <td>4063</td>\n",
       "      <td>BOL</td>\n",
       "      <td>Bolivia</td>\n",
       "    </tr>\n",
       "  </tbody>\n",
       "</table>\n",
       "</div>"
      ],
      "text/plain": [
       "         Airport Elevation Abbrev  Country\n",
       "80  El Alto Intl      4063    BOL  Bolivia"
      ]
     },
     "execution_count": 238,
     "metadata": {},
     "output_type": "execute_result"
    }
   ],
   "source": [
    "# Problem 4c\n",
    "df1 = pd.DataFrame(columns=['Airport', 'Elevation', 'Abbrev'])\n",
    "\n",
    "i = 0\n",
    "\n",
    "for element in tree.iterfind('airport'):\n",
    "    airport = (element.find('name').text)\n",
    "    abbrev2 = element.get('country')\n",
    "    try:\n",
    "        elevation = float(element.find('elevation').text)\n",
    "    except AttributeError:\n",
    "        elevation = 'none'\n",
    "    except TypeError:\n",
    "        elevation = 'none'\n",
    "    df1.loc[i] = [airport, elevation, abbrev2]\n",
    "    i += 1\n",
    "        \n",
    "dfa = df1.merge(df, on='Abbrev')\n",
    "\n",
    "dfa = dfa[dfa.Elevation != 'none']\n",
    "\n",
    "dfa.sort_values(by='Elevation', ascending=False).head(1)"
   ]
  },
  {
   "cell_type": "code",
   "execution_count": null,
   "metadata": {
    "collapsed": true
   },
   "outputs": [],
   "source": []
  },
  {
   "cell_type": "code",
   "execution_count": null,
   "metadata": {
    "collapsed": true
   },
   "outputs": [],
   "source": []
  },
  {
   "cell_type": "code",
   "execution_count": null,
   "metadata": {
    "collapsed": true
   },
   "outputs": [],
   "source": []
  },
  {
   "cell_type": "code",
   "execution_count": null,
   "metadata": {
    "collapsed": true
   },
   "outputs": [],
   "source": []
  },
  {
   "cell_type": "code",
   "execution_count": null,
   "metadata": {
    "collapsed": true
   },
   "outputs": [],
   "source": []
  }
 ],
 "metadata": {
  "kernelspec": {
   "display_name": "Python 2",
   "language": "python",
   "name": "python2"
  },
  "language_info": {
   "codemirror_mode": {
    "name": "ipython",
    "version": 2
   },
   "file_extension": ".py",
   "mimetype": "text/x-python",
   "name": "python",
   "nbconvert_exporter": "python",
   "pygments_lexer": "ipython2",
   "version": "2.7.10"
  }
 },
 "nbformat": 4,
 "nbformat_minor": 0
}
