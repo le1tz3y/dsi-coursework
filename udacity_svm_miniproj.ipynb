{
 "cells": [
  {
   "cell_type": "code",
   "execution_count": null,
   "metadata": {
    "collapsed": true
   },
   "outputs": [],
   "source": [
    "#!/usr/bin/python\n",
    "\n",
    "\"\"\" \n",
    "    This is the code to accompany the Lesson 2 (SVM) mini-project.\n",
    "\n",
    "    Use a SVM to identify emails from the Enron corpus by their authors:    \n",
    "    Sara has label 0\n",
    "    Chris has label 1\n",
    "\"\"\""
   ]
  },
  {
   "cell_type": "code",
   "execution_count": 52,
   "metadata": {
    "collapsed": false
   },
   "outputs": [
    {
     "name": "stdout",
     "output_type": "stream",
     "text": [
      "no. of Chris training emails: 7936\n",
      "no. of Sara training emails: 7884\n"
     ]
    }
   ],
   "source": [
    "import sys\n",
    "from time import time\n",
    "import numpy as np\n",
    "from sklearn.svm import SVC\n",
    "sys.path.append(\"/Users/C3P0/Code/Analytics/DS_Intensive_Workshop/Coursework/5_Machine_Learning/ud120-projects-master/tools/\")\n",
    "from email_preprocess import preprocess\n",
    "\n",
    "\n",
    "### features_train and features_test are the features for the training\n",
    "### and testing datasets, respectively\n",
    "### labels_train and labels_test are the corresponding item labels\n",
    "features_train, features_test, labels_train, labels_test = preprocess()"
   ]
  },
  {
   "cell_type": "code",
   "execution_count": 6,
   "metadata": {
    "collapsed": false,
    "scrolled": true
   },
   "outputs": [
    {
     "name": "stdout",
     "output_type": "stream",
     "text": [
      "training time: 180.755 s\n",
      "prediction time: 18.743 s\n",
      "accuracy = 98.4072810011 %\n"
     ]
    }
   ],
   "source": [
    "# Instantiate the SVC class or create a classifier\n",
    "clf = SVC(kernel='linear')\n",
    "\n",
    "# Do the training or build a model/fit SVM according to train data\n",
    "t0 = time()\n",
    "clf = clf.fit(features_train, labels_train)\n",
    "print \"training time:\", round(time()-t0, 3), \"s\"\n",
    "\n",
    "# Make predictions based on the model created above\n",
    "t0 = time()\n",
    "pred = clf.predict(features_test)\n",
    "print \"prediction time:\", round(time()-t0, 3), \"s\"\n",
    "\n",
    "# Check the model's accuracy on a different test dataset\n",
    "accuracy = clf.score(features_test, labels_test)\n",
    "\n",
    "print \"accuracy =\", accuracy * 100, '%'"
   ]
  },
  {
   "cell_type": "code",
   "execution_count": 17,
   "metadata": {
    "collapsed": false
   },
   "outputs": [
    {
     "name": "stdout",
     "output_type": "stream",
     "text": [
      "training time: 0.119 s\n",
      "prediction time: 1.148 s\n",
      "accuracy = 88.4527872582 %\n"
     ]
    }
   ],
   "source": [
    "# Instantiate the SVC class (as linear) or create a classifier\n",
    "clf = SVC(kernel='linear')\n",
    "\n",
    "# Cut down the train datasets to 1% of original size\n",
    "features_train = features_train[:len(features_train)/100] \n",
    "labels_train = labels_train[:len(labels_train)/100] \n",
    "\n",
    "# Do the training or build a model/fit SVM according to train data\n",
    "t0 = time()\n",
    "clf = clf.fit(features_train, labels_train)\n",
    "print \"training time:\", round(time()-t0, 3), \"s\"\n",
    "\n",
    "# Make predictions based on the model created above\n",
    "t0 = time()\n",
    "pred = clf.predict(features_test)\n",
    "print \"prediction time:\", round(time()-t0, 3), \"s\"\n",
    "\n",
    "# Check the model's accuracy on a different test dataset\n",
    "accuracy = clf.score(features_test, labels_test)\n",
    "\n",
    "print \"accuracy =\", accuracy * 100, '%'"
   ]
  },
  {
   "cell_type": "code",
   "execution_count": 33,
   "metadata": {
    "collapsed": false,
    "scrolled": true
   },
   "outputs": [
    {
     "name": "stdout",
     "output_type": "stream",
     "text": [
      "training time: 121.41 s\n",
      "prediction time: 12.081 s\n",
      "accuracy = 99.0898748578 %\n"
     ]
    }
   ],
   "source": [
    "# Instantiate the SVC class (as rbf) or create a classifier\n",
    "clf = SVC(kernel='rbf', C=10000)\n",
    "\n",
    "# Do the training or build a model/fit SVM according to train data\n",
    "t0 = time()\n",
    "clf = clf.fit(features_train, labels_train)\n",
    "print \"training time:\", round(time()-t0, 3), \"s\"\n",
    "\n",
    "# Make predictions based on the model created above\n",
    "t0 = time()\n",
    "pred = clf.predict(features_test)\n",
    "print \"prediction time:\", round(time()-t0, 3), \"s\"\n",
    "\n",
    "# Check the model's accuracy on a different test dataset\n",
    "accuracy = clf.score(features_test, labels_test)\n",
    "\n",
    "print \"accuracy =\", accuracy * 100, '%'"
   ]
  },
  {
   "cell_type": "code",
   "execution_count": 51,
   "metadata": {
    "collapsed": false,
    "scrolled": false
   },
   "outputs": [
    {
     "name": "stdout",
     "output_type": "stream",
     "text": [
      "training time: 138.298 s\n",
      "prediction time: 15.655 s\n"
     ]
    }
   ],
   "source": [
    "# Instantiate the SVC class (as rbf) or create a classifier\n",
    "clf = SVC(kernel='rbf', C=10000)\n",
    "\n",
    "# Do the training or build a model/fit SVM according to train data\n",
    "t0 = time()\n",
    "clf = clf.fit(features_train, labels_train)\n",
    "print \"training time:\", round(time()-t0, 3), \"s\"\n",
    "\n",
    "# Make predictions based on the model created above\n",
    "t0 = time()\n",
    "pred = clf.predict(features_test)\n",
    "print \"prediction time:\", round(time()-t0, 3), \"s\""
   ]
  },
  {
   "cell_type": "code",
   "execution_count": 62,
   "metadata": {
    "collapsed": false
   },
   "outputs": [
    {
     "data": {
      "text/plain": [
       "array([881, 877])"
      ]
     },
     "execution_count": 62,
     "metadata": {},
     "output_type": "execute_result"
    }
   ],
   "source": [
    "values, counts = np.unique(pred, return_counts=True)\n",
    "\n",
    "counts"
   ]
  }
 ],
 "metadata": {
  "kernelspec": {
   "display_name": "Python 2",
   "language": "python",
   "name": "python2"
  },
  "language_info": {
   "codemirror_mode": {
    "name": "ipython",
    "version": 2
   },
   "file_extension": ".py",
   "mimetype": "text/x-python",
   "name": "python",
   "nbconvert_exporter": "python",
   "pygments_lexer": "ipython2",
   "version": "2.7.10"
  }
 },
 "nbformat": 4,
 "nbformat_minor": 0
}
